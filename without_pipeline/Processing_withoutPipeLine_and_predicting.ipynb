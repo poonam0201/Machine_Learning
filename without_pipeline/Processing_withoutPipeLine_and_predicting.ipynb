{
 "cells": [
  {
   "cell_type": "code",
   "execution_count": null,
   "metadata": {},
   "outputs": [],
   "source": []
  },
  {
   "cell_type": "markdown",
   "metadata": {},
   "source": [
    "# Processing without pipeline \n"
   ]
  },
  {
   "cell_type": "code",
   "execution_count": 109,
   "metadata": {},
   "outputs": [
    {
     "name": "stdout",
     "output_type": "stream",
     "text": [
      "     Pclass     Sex   Age  SibSp  Parch     Fare Embarked\n",
      "114       3  female  17.0      0      0  14.4583        C\n",
      "874       2  female  28.0      1      0  24.0000        C\n",
      "Accuracy is :  0.7350746268656716\n",
      "Successfully saved\n"
     ]
    }
   ],
   "source": [
    "# Processing without pipeline \n",
    "\n",
    "import pandas as pd\n",
    "import numpy as np\n",
    "\n",
    "from sklearn.model_selection import train_test_split\n",
    "\n",
    "from sklearn.impute import SimpleImputer\n",
    "from sklearn.preprocessing import OneHotEncoder\n",
    "from sklearn.preprocessing import MinMaxScaler\n",
    "\n",
    "from sklearn.tree import DecisionTreeClassifier\n",
    "\n",
    "import pickle\n",
    "\n",
    "def read_csv(file_name):\n",
    "    data = pd.read_csv(file_name)\n",
    "    data.drop(columns=['PassengerId', 'Name','Ticket', 'Cabin'], inplace=True)\n",
    "    return data\n",
    "\n",
    "def split_data(data):\n",
    "    from sklearn.model_selection import train_test_split\n",
    "    X_train, X_test, Y_train, Y_test =  train_test_split(data.drop(columns=['Survived']),\n",
    "                                                        data['Survived'],\n",
    "                                                        test_size=0.3,\n",
    "                                                        random_state=1)\n",
    "    print(X_train.head(2))\n",
    "    return X_train,X_test,Y_train,Y_test\n",
    "\n",
    "\n",
    "# Applying Simple Imputer on Age and Embarked column\n",
    "def simple_imputer(X_train,X_test):\n",
    "    si_Age = SimpleImputer()  #by deafault mean\n",
    "    si_Embarked = SimpleImputer(strategy='most_frequent')\n",
    "\n",
    "    X_train_Age = si_Age.fit_transform(X_train[['Age']])\n",
    "    X_train_Embarked = si_Embarked.fit_transform(X_train[['Embarked']])\n",
    "\n",
    "    X_test_Age = si_Age.fit_transform(X_test[['Age']])\n",
    "    X_test_Embarked = si_Embarked.fit_transform(X_test[['Embarked']])\n",
    "    return si_Age,si_Embarked,X_train_Age,X_train_Embarked,X_test_Age,X_test_Embarked\n",
    "    \n",
    "    \n",
    "# Applying One hot encoding on Sex and Embarked columns\n",
    "def one_hot_encoder(X_train,X_test,X_train_Embarked,X_test_Embarked):\n",
    "    ohe_Sex = OneHotEncoder(sparse=False, handle_unknown='error' )  \n",
    "    ohe_Embarked = OneHotEncoder(sparse=False, handle_unknown='error' )\n",
    "\n",
    "    X_train_Sex = ohe_Sex.fit_transform(X_train[['Sex']])\n",
    "    X_train_Embarked = ohe_Embarked.fit_transform(X_train_Embarked)\n",
    "\n",
    "    X_test_Sex = ohe_Sex.fit_transform(X_test[['Sex']])\n",
    "    X_test_Embarked = ohe_Embarked.fit_transform(X_test_Embarked)\n",
    "    return ohe_Sex,ohe_Embarked,X_train_Sex,X_train_Embarked,X_test_Sex,X_test_Embarked\n",
    "    \n",
    "# Extracting features Age, Embarked, Sex and then concatenate all\n",
    "def extract_concat(X_train_Age,X_train_Sex,X_train_Embarked,X_test_Age,X_test_Sex,X_test_Embarked):    \n",
    "    X_train_rem = X_train.drop(columns=['Age','Embarked','Sex'])\n",
    "    X_test_rem = X_test.drop(columns=['Age','Embarked','Sex'])\n",
    "    #concatenate all\n",
    "    X_train_new = np.concatenate((X_train_rem,X_train_Age,X_train_Sex,X_train_Embarked), axis=1)\n",
    "    X_test_new = np.concatenate((X_test_rem,X_test_Age,X_test_Sex,X_test_Embarked), axis=1)\n",
    "    return X_train_new, X_test_new\n",
    "\n",
    "def decision_model(Y_train,Y_test,X_train_new,X_test_new):\n",
    "    dtc = DecisionTreeClassifier()\n",
    "    dtc.fit(X_train_new,Y_train)\n",
    "    Y_pred = dtc.predict(X_test_new)  \n",
    "\n",
    "    from sklearn.metrics import accuracy_score\n",
    "    print(\"Accuracy is : \",accuracy_score(Y_test,Y_pred))\n",
    "    return dtc\n",
    "    \n",
    "\n",
    "def saving_models(si_Age,si_Embarked,ohe_Sex,ohe_Embarked,dtc):    \n",
    "    pickle.dump(si_Age, open('models/si_Age.pkl','wb'))\n",
    "    pickle.dump(si_Embarked, open('models/si_Embarked.pkl','wb'))\n",
    "    pickle.dump(ohe_Sex,open('models/ohe_Sex.pkl','wb'))\n",
    "    pickle.dump(ohe_Embarked,open('models/ohe_Embarked.pkl','wb'))\n",
    "    pickle.dump(dtc,open('models/dtc.pkl','wb'))\n",
    "    print(\"Successfully saved\")\n",
    "\n",
    "\n",
    "    \n",
    "data = read_csv('train.csv') \n",
    "\n",
    "X_train,X_test,Y_train,Y_test = split_data(data)\n",
    "\n",
    "si_Age,si_Embarked,X_train_Age,X_train_Embarked,X_test_Age,X_test_Embarked= simple_imputer(X_train,X_test)\n",
    "\n",
    "ohe_Sex,ohe_Embarked,X_train_Sex,X_train_Embarked,X_test_Sex,X_test_Embarked = one_hot_encoder(X_train,X_test,X_train_Embarked,X_test_Embarked)\n",
    "\n",
    "X_train_new, X_test_new = extract_concat(X_train_Age,X_train_Sex,X_train_Embarked,X_test_Age,X_test_Sex,X_test_Embarked)   \n",
    "\n",
    "dtc = decision_model(Y_train,Y_test,X_train_new,X_test_new) \n",
    "\n",
    "saving_models(si_Age,si_Embarked,ohe_Sex,ohe_Embarked,dtc)"
   ]
  },
  {
   "cell_type": "markdown",
   "metadata": {},
   "source": [
    "# predict without pipeline"
   ]
  },
  {
   "cell_type": "code",
   "execution_count": 110,
   "metadata": {},
   "outputs": [
    {
     "name": "stdout",
     "output_type": "stream",
     "text": [
      "1 : means survive, 0 : means not survive\n",
      "[1]\n"
     ]
    }
   ],
   "source": [
    "# predicting without pipeline\n",
    "import pickle\n",
    "import numpy as np\n",
    "\n",
    "def load_pickle_and_check_result(test_input):\n",
    "    si_Age = pickle.load(open('models/si_Age.pkl','rb'))\n",
    "    si_Embarked = pickle.load(open('models/si_Embarked.pkl','rb'))\n",
    "    ohe_Sex = pickle.load(open('models/ohe_Sex.pkl','rb'))\n",
    "    ohe_Embarked = pickle.load(open('models/ohe_Embarked.pkl','rb'))\n",
    "    dtc = pickle.load(open('models/dtc.pkl','rb'))\n",
    "    \n",
    "    test_input_Sex = ohe_Sex.transform(test_input[:,1].reshape(1,1))\n",
    "    test_input_Embarked = ohe_Embarked.transform(test_input[:,-1].reshape(1,1))\n",
    "    test_input_Age = test_input[:,2].reshape(1,1)\n",
    "    test_input_transformed = np.concatenate((test_input[:,[0,3,4,5]],test_input_Age,test_input_Sex,test_input_Embarked),axis=1)\n",
    "\n",
    "    print(\"1 : means survive, 0 : means not survive\")\n",
    "    print(dtc.predict(test_input_transformed))\n",
    "    \n",
    "    \n",
    "# Let user gave input as\n",
    "#Pclass     Sex   Age  SibSp  Parch     Fare Embarked\n",
    "test_input = np.array([1, 'male', 31.0, 1, 0, 20.5, 'S'],dtype=object).reshape(1,7)\n",
    "load_pickle_and_check_result(test_input)\n",
    "\n"
   ]
  },
  {
   "cell_type": "code",
   "execution_count": null,
   "metadata": {},
   "outputs": [],
   "source": []
  },
  {
   "cell_type": "code",
   "execution_count": null,
   "metadata": {},
   "outputs": [],
   "source": []
  }
 ],
 "metadata": {
  "kernelspec": {
   "display_name": "Python 3",
   "language": "python",
   "name": "python3"
  },
  "language_info": {
   "codemirror_mode": {
    "name": "ipython",
    "version": 3
   },
   "file_extension": ".py",
   "mimetype": "text/x-python",
   "name": "python",
   "nbconvert_exporter": "python",
   "pygments_lexer": "ipython3",
   "version": "3.7.5"
  }
 },
 "nbformat": 4,
 "nbformat_minor": 2
}
